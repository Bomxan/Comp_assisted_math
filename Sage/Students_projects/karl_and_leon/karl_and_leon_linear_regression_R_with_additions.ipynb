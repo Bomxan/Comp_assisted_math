{
 "cells": [
  {
   "attachments": {},
   "cell_type": "markdown",
   "metadata": {},
   "source": [
    "# Linear Regression\n",
    "\n"
   ]
  },
  {
   "attachments": {},
   "cell_type": "markdown",
   "metadata": {},
   "source": [
    "In our project, we are rewriting the notebook on \"Least squares approximation\" into an R script. We then extend this model by generating a random multidimensional dataset using Python and performing a multiple linear regression with a neural network."
   ]
  },
  {
   "cell_type": "code",
   "execution_count": 1,
   "metadata": {
    "collapsed": false,
    "jupyter": {
     "outputs_hidden": false
    },
    "tags": [],
    "vscode": {
     "languageId": "r"
    }
   },
   "outputs": [
    {
     "name": "stderr",
     "output_type": "stream",
     "text": [
      "\n",
      "Attachement du package : 'rgl'\n",
      "\n",
      "\n",
      "L'objet suivant est masqu'e depuis 'package:matlib':\n",
      "\n",
      "    GramSchmidt\n",
      "\n",
      "\n",
      "-- \u001b[1mAttaching core tidyverse packages\u001b[22m ------------------------ tidyverse 2.0.0 --\n",
      "\u001b[32mv\u001b[39m \u001b[34mdplyr    \u001b[39m 1.1.2     \u001b[32mv\u001b[39m \u001b[34mreadr    \u001b[39m 2.1.4\n",
      "\u001b[32mv\u001b[39m \u001b[34mforcats  \u001b[39m 1.0.0     \u001b[32mv\u001b[39m \u001b[34mstringr  \u001b[39m 1.5.0\n",
      "\u001b[32mv\u001b[39m \u001b[34mggplot2  \u001b[39m 3.4.2     \u001b[32mv\u001b[39m \u001b[34mtibble   \u001b[39m 3.2.1\n",
      "\u001b[32mv\u001b[39m \u001b[34mlubridate\u001b[39m 1.9.2     \u001b[32mv\u001b[39m \u001b[34mtidyr    \u001b[39m 1.3.0\n",
      "\u001b[32mv\u001b[39m \u001b[34mpurrr    \u001b[39m 1.0.1     \n",
      "-- \u001b[1mConflicts\u001b[22m ------------------------------------------ tidyverse_conflicts() --\n",
      "\u001b[31mx\u001b[39m \u001b[34mtidyr\u001b[39m::\u001b[32mexpand()\u001b[39m masks \u001b[34mMatrix\u001b[39m::expand()\n",
      "\u001b[31mx\u001b[39m \u001b[34mdplyr\u001b[39m::\u001b[32mfilter()\u001b[39m masks \u001b[34mstats\u001b[39m::filter()\n",
      "\u001b[31mx\u001b[39m \u001b[34mdplyr\u001b[39m::\u001b[32mlag()\u001b[39m    masks \u001b[34mstats\u001b[39m::lag()\n",
      "\u001b[31mx\u001b[39m \u001b[34mtidyr\u001b[39m::\u001b[32mpack()\u001b[39m   masks \u001b[34mMatrix\u001b[39m::pack()\n",
      "\u001b[31mx\u001b[39m \u001b[34mdplyr\u001b[39m::\u001b[32mselect()\u001b[39m masks \u001b[34mMASS\u001b[39m::select()\n",
      "\u001b[31mx\u001b[39m \u001b[34mtidyr\u001b[39m::\u001b[32munpack()\u001b[39m masks \u001b[34mMatrix\u001b[39m::unpack()\n",
      "\u001b[36mi\u001b[39m Use the conflicted package (\u001b[3m\u001b[34m<http://conflicted.r-lib.org/>\u001b[39m\u001b[23m) to force all conflicts to become errors\n"
     ]
    }
   ],
   "source": [
    "# The malib library needs to be loaded before rgl\n",
    "# or it creates a conflict (over GramSchmidt!)\n",
    "library(matlib)\n",
    "library(Matrix)\n",
    "library(MASS)\n",
    "library(rgl)\n",
    "library(tidyverse)\n",
    "library(plot3D)"
   ]
  },
  {
   "attachments": {},
   "cell_type": "markdown",
   "metadata": {},
   "source": [
    "While in Sage, these functions are used to create a matrix:\n",
    "\n",
    "A = matrix\\(QQ, \\[\\[1,1\\],\\[2,1\\],\\[3,1\\],\\[4,1\\],\\[5,1\\],\\[6,1\\],\\[7,1\\]\\]\\) \n",
    "\n",
    "Y = matrix\\(QQ, \\[\\[25\\],\\[15\\],\\[9\\],\\[24\\],\\[37\\],\\[50\\],\\[51\\]\\]\\)\n",
    "\n",
    "we define the matrices in R as follows.\n",
    "\n"
   ]
  },
  {
   "cell_type": "code",
   "execution_count": 2,
   "metadata": {
    "collapsed": false,
    "jupyter": {
     "outputs_hidden": false
    },
    "tags": [],
    "vscode": {
     "languageId": "r"
    }
   },
   "outputs": [
    {
     "data": {
      "text/html": [
       "<table class=\"dataframe\">\n",
       "<caption>A matrix: 7 x 2 of type dbl</caption>\n",
       "<tbody>\n",
       "\t<tr><td>1</td><td>1</td></tr>\n",
       "\t<tr><td>2</td><td>1</td></tr>\n",
       "\t<tr><td>3</td><td>1</td></tr>\n",
       "\t<tr><td>4</td><td>1</td></tr>\n",
       "\t<tr><td>5</td><td>1</td></tr>\n",
       "\t<tr><td>6</td><td>1</td></tr>\n",
       "\t<tr><td>7</td><td>1</td></tr>\n",
       "</tbody>\n",
       "</table>\n"
      ],
      "text/latex": [
       "A matrix: 7 x 2 of type dbl\n",
       "\\begin{tabular}{ll}\n",
       "\t 1 & 1\\\\\n",
       "\t 2 & 1\\\\\n",
       "\t 3 & 1\\\\\n",
       "\t 4 & 1\\\\\n",
       "\t 5 & 1\\\\\n",
       "\t 6 & 1\\\\\n",
       "\t 7 & 1\\\\\n",
       "\\end{tabular}\n"
      ],
      "text/markdown": [
       "\n",
       "A matrix: 7 x 2 of type dbl\n",
       "\n",
       "| 1 | 1 |\n",
       "| 2 | 1 |\n",
       "| 3 | 1 |\n",
       "| 4 | 1 |\n",
       "| 5 | 1 |\n",
       "| 6 | 1 |\n",
       "| 7 | 1 |\n",
       "\n"
      ],
      "text/plain": [
       "     [,1] [,2]\n",
       "[1,] 1    1   \n",
       "[2,] 2    1   \n",
       "[3,] 3    1   \n",
       "[4,] 4    1   \n",
       "[5,] 5    1   \n",
       "[6,] 6    1   \n",
       "[7,] 7    1   "
      ]
     },
     "metadata": {},
     "output_type": "display_data"
    },
    {
     "data": {
      "text/html": [
       "<table class=\"dataframe\">\n",
       "<caption>A matrix: 7 x 1 of type dbl</caption>\n",
       "<tbody>\n",
       "\t<tr><td>25</td></tr>\n",
       "\t<tr><td>15</td></tr>\n",
       "\t<tr><td> 9</td></tr>\n",
       "\t<tr><td>24</td></tr>\n",
       "\t<tr><td>37</td></tr>\n",
       "\t<tr><td>50</td></tr>\n",
       "\t<tr><td>51</td></tr>\n",
       "</tbody>\n",
       "</table>\n"
      ],
      "text/latex": [
       "A matrix: 7 x 1 of type dbl\n",
       "\\begin{tabular}{l}\n",
       "\t 25\\\\\n",
       "\t 15\\\\\n",
       "\t  9\\\\\n",
       "\t 24\\\\\n",
       "\t 37\\\\\n",
       "\t 50\\\\\n",
       "\t 51\\\\\n",
       "\\end{tabular}\n"
      ],
      "text/markdown": [
       "\n",
       "A matrix: 7 x 1 of type dbl\n",
       "\n",
       "| 25 |\n",
       "| 15 |\n",
       "|  9 |\n",
       "| 24 |\n",
       "| 37 |\n",
       "| 50 |\n",
       "| 51 |\n",
       "\n"
      ],
      "text/plain": [
       "     [,1]\n",
       "[1,] 25  \n",
       "[2,] 15  \n",
       "[3,]  9  \n",
       "[4,] 24  \n",
       "[5,] 37  \n",
       "[6,] 50  \n",
       "[7,] 51  "
      ]
     },
     "metadata": {},
     "output_type": "display_data"
    }
   ],
   "source": [
    "# Define the matrices A and Y\n",
    "A <- matrix(c(1, 2, 3, 4, 5, 6, 7, rep(1, times = 7)), ncol = 2)\n",
    "A\n",
    "Y <- matrix(c(25, 15, 9, 24, 37, 50, 51), ncol = 1)\n",
    "Y"
   ]
  },
  {
   "attachments": {},
   "cell_type": "markdown",
   "metadata": {},
   "source": [
    "In the following we want to solve the least squares minimisation problem.\n",
    "\n",
    "It is interesting to see, that we need to use the command %\\*% in R for matrix\\-multiplication while we can just use \\* in Sage. This shows again, that Sage is created for mathematical usage while R is not particularly.\n",
    "\n"
   ]
  },
  {
   "cell_type": "code",
   "execution_count": 3,
   "metadata": {
    "collapsed": false,
    "jupyter": {
     "outputs_hidden": false
    },
    "tags": [],
    "vscode": {
     "languageId": "r"
    }
   },
   "outputs": [
    {
     "data": {
      "text/html": [
       "<table class=\"dataframe\">\n",
       "<caption>A matrix: 2 x 7 of type dbl</caption>\n",
       "<tbody>\n",
       "\t<tr><td>-0.1071429</td><td>-0.07142857</td><td>-0.03571429</td><td>4.404187e-17</td><td> 3.571429e-02</td><td> 0.07142857</td><td> 0.1071429</td></tr>\n",
       "\t<tr><td> 0.5714286</td><td> 0.42857143</td><td> 0.28571429</td><td>1.428571e-01</td><td>-4.361179e-17</td><td>-0.14285714</td><td>-0.2857143</td></tr>\n",
       "</tbody>\n",
       "</table>\n"
      ],
      "text/latex": [
       "A matrix: 2 x 7 of type dbl\n",
       "\\begin{tabular}{lllllll}\n",
       "\t -0.1071429 & -0.07142857 & -0.03571429 & 4.404187e-17 &  3.571429e-02 &  0.07142857 &  0.1071429\\\\\n",
       "\t  0.5714286 &  0.42857143 &  0.28571429 & 1.428571e-01 & -4.361179e-17 & -0.14285714 & -0.2857143\\\\\n",
       "\\end{tabular}\n"
      ],
      "text/markdown": [
       "\n",
       "A matrix: 2 x 7 of type dbl\n",
       "\n",
       "| -0.1071429 | -0.07142857 | -0.03571429 | 4.404187e-17 |  3.571429e-02 |  0.07142857 |  0.1071429 |\n",
       "|  0.5714286 |  0.42857143 |  0.28571429 | 1.428571e-01 | -4.361179e-17 | -0.14285714 | -0.2857143 |\n",
       "\n"
      ],
      "text/plain": [
       "     [,1]       [,2]        [,3]        [,4]         [,5]          [,6]       \n",
       "[1,] -0.1071429 -0.07142857 -0.03571429 4.404187e-17  3.571429e-02  0.07142857\n",
       "[2,]  0.5714286  0.42857143  0.28571429 1.428571e-01 -4.361179e-17 -0.14285714\n",
       "     [,7]      \n",
       "[1,]  0.1071429\n",
       "[2,] -0.2857143"
      ]
     },
     "metadata": {},
     "output_type": "display_data"
    },
    {
     "data": {
      "text/html": [
       "<table class=\"dataframe\">\n",
       "<caption>A matrix: 7 x 7 of type dbl</caption>\n",
       "<tbody>\n",
       "\t<tr><td> 0.46428571</td><td> 3.571429e-01</td><td>0.25000000</td><td>0.1428571</td><td>0.03571429</td><td>-7.142857e-02</td><td>-0.17857143</td></tr>\n",
       "\t<tr><td> 0.35714286</td><td> 2.857143e-01</td><td>0.21428571</td><td>0.1428571</td><td>0.07142857</td><td> 1.110223e-16</td><td>-0.07142857</td></tr>\n",
       "\t<tr><td> 0.25000000</td><td> 2.142857e-01</td><td>0.17857143</td><td>0.1428571</td><td>0.10714286</td><td> 7.142857e-02</td><td> 0.03571429</td></tr>\n",
       "\t<tr><td> 0.14285714</td><td> 1.428571e-01</td><td>0.14285714</td><td>0.1428571</td><td>0.14285714</td><td> 1.428571e-01</td><td> 0.14285714</td></tr>\n",
       "\t<tr><td> 0.03571429</td><td> 7.142857e-02</td><td>0.10714286</td><td>0.1428571</td><td>0.17857143</td><td> 2.142857e-01</td><td> 0.25000000</td></tr>\n",
       "\t<tr><td>-0.07142857</td><td> 1.110223e-16</td><td>0.07142857</td><td>0.1428571</td><td>0.21428571</td><td> 2.857143e-01</td><td> 0.35714286</td></tr>\n",
       "\t<tr><td>-0.17857143</td><td>-7.142857e-02</td><td>0.03571429</td><td>0.1428571</td><td>0.25000000</td><td> 3.571429e-01</td><td> 0.46428571</td></tr>\n",
       "</tbody>\n",
       "</table>\n"
      ],
      "text/latex": [
       "A matrix: 7 x 7 of type dbl\n",
       "\\begin{tabular}{lllllll}\n",
       "\t  0.46428571 &  3.571429e-01 & 0.25000000 & 0.1428571 & 0.03571429 & -7.142857e-02 & -0.17857143\\\\\n",
       "\t  0.35714286 &  2.857143e-01 & 0.21428571 & 0.1428571 & 0.07142857 &  1.110223e-16 & -0.07142857\\\\\n",
       "\t  0.25000000 &  2.142857e-01 & 0.17857143 & 0.1428571 & 0.10714286 &  7.142857e-02 &  0.03571429\\\\\n",
       "\t  0.14285714 &  1.428571e-01 & 0.14285714 & 0.1428571 & 0.14285714 &  1.428571e-01 &  0.14285714\\\\\n",
       "\t  0.03571429 &  7.142857e-02 & 0.10714286 & 0.1428571 & 0.17857143 &  2.142857e-01 &  0.25000000\\\\\n",
       "\t -0.07142857 &  1.110223e-16 & 0.07142857 & 0.1428571 & 0.21428571 &  2.857143e-01 &  0.35714286\\\\\n",
       "\t -0.17857143 & -7.142857e-02 & 0.03571429 & 0.1428571 & 0.25000000 &  3.571429e-01 &  0.46428571\\\\\n",
       "\\end{tabular}\n"
      ],
      "text/markdown": [
       "\n",
       "A matrix: 7 x 7 of type dbl\n",
       "\n",
       "|  0.46428571 |  3.571429e-01 | 0.25000000 | 0.1428571 | 0.03571429 | -7.142857e-02 | -0.17857143 |\n",
       "|  0.35714286 |  2.857143e-01 | 0.21428571 | 0.1428571 | 0.07142857 |  1.110223e-16 | -0.07142857 |\n",
       "|  0.25000000 |  2.142857e-01 | 0.17857143 | 0.1428571 | 0.10714286 |  7.142857e-02 |  0.03571429 |\n",
       "|  0.14285714 |  1.428571e-01 | 0.14285714 | 0.1428571 | 0.14285714 |  1.428571e-01 |  0.14285714 |\n",
       "|  0.03571429 |  7.142857e-02 | 0.10714286 | 0.1428571 | 0.17857143 |  2.142857e-01 |  0.25000000 |\n",
       "| -0.07142857 |  1.110223e-16 | 0.07142857 | 0.1428571 | 0.21428571 |  2.857143e-01 |  0.35714286 |\n",
       "| -0.17857143 | -7.142857e-02 | 0.03571429 | 0.1428571 | 0.25000000 |  3.571429e-01 |  0.46428571 |\n",
       "\n"
      ],
      "text/plain": [
       "     [,1]        [,2]          [,3]       [,4]      [,5]       [,6]         \n",
       "[1,]  0.46428571  3.571429e-01 0.25000000 0.1428571 0.03571429 -7.142857e-02\n",
       "[2,]  0.35714286  2.857143e-01 0.21428571 0.1428571 0.07142857  1.110223e-16\n",
       "[3,]  0.25000000  2.142857e-01 0.17857143 0.1428571 0.10714286  7.142857e-02\n",
       "[4,]  0.14285714  1.428571e-01 0.14285714 0.1428571 0.14285714  1.428571e-01\n",
       "[5,]  0.03571429  7.142857e-02 0.10714286 0.1428571 0.17857143  2.142857e-01\n",
       "[6,] -0.07142857  1.110223e-16 0.07142857 0.1428571 0.21428571  2.857143e-01\n",
       "[7,] -0.17857143 -7.142857e-02 0.03571429 0.1428571 0.25000000  3.571429e-01\n",
       "     [,7]       \n",
       "[1,] -0.17857143\n",
       "[2,] -0.07142857\n",
       "[3,]  0.03571429\n",
       "[4,]  0.14285714\n",
       "[5,]  0.25000000\n",
       "[6,]  0.35714286\n",
       "[7,]  0.46428571"
      ]
     },
     "metadata": {},
     "output_type": "display_data"
    },
    {
     "data": {
      "text/html": [
       "<table class=\"dataframe\">\n",
       "<caption>A matrix: 2 x 1 of type dbl</caption>\n",
       "<tbody>\n",
       "\t<tr><td>6.285714</td></tr>\n",
       "\t<tr><td>5.000000</td></tr>\n",
       "</tbody>\n",
       "</table>\n"
      ],
      "text/latex": [
       "A matrix: 2 x 1 of type dbl\n",
       "\\begin{tabular}{l}\n",
       "\t 6.285714\\\\\n",
       "\t 5.000000\\\\\n",
       "\\end{tabular}\n"
      ],
      "text/markdown": [
       "\n",
       "A matrix: 2 x 1 of type dbl\n",
       "\n",
       "| 6.285714 |\n",
       "| 5.000000 |\n",
       "\n"
      ],
      "text/plain": [
       "     [,1]    \n",
       "[1,] 6.285714\n",
       "[2,] 5.000000"
      ]
     },
     "metadata": {},
     "output_type": "display_data"
    }
   ],
   "source": [
    "# M = (A.transpose()*A).inverse()*A.transpose()\n",
    "M <- ginv(A) \n",
    "M\n",
    "# P is the projection matrix in R^7\n",
    "P <- A %*% M\n",
    "P\n",
    "# X is the solution to the least squares problem\n",
    "X <- M %*% Y\n",
    "X"
   ]
  },
  {
   "cell_type": "code",
   "execution_count": 4,
   "metadata": {
    "tags": [],
    "vscode": {
     "languageId": "r"
    }
   },
   "outputs": [
    {
     "data": {
      "text/html": [
       "<table class=\"dataframe\">\n",
       "<caption>A matrix: 2 x 2 of type dbl</caption>\n",
       "<tbody>\n",
       "\t<tr><td> 0.03571429</td><td>-0.1428571</td></tr>\n",
       "\t<tr><td>-0.14285714</td><td> 0.7142857</td></tr>\n",
       "</tbody>\n",
       "</table>\n"
      ],
      "text/latex": [
       "A matrix: 2 x 2 of type dbl\n",
       "\\begin{tabular}{ll}\n",
       "\t  0.03571429 & -0.1428571\\\\\n",
       "\t -0.14285714 &  0.7142857\\\\\n",
       "\\end{tabular}\n"
      ],
      "text/markdown": [
       "\n",
       "A matrix: 2 x 2 of type dbl\n",
       "\n",
       "|  0.03571429 | -0.1428571 |\n",
       "| -0.14285714 |  0.7142857 |\n",
       "\n"
      ],
      "text/plain": [
       "     [,1]        [,2]      \n",
       "[1,]  0.03571429 -0.1428571\n",
       "[2,] -0.14285714  0.7142857"
      ]
     },
     "metadata": {},
     "output_type": "display_data"
    }
   ],
   "source": [
    "# Computing the inverse of A.transpose()*A\n",
    "# This uses tools from the matlib library\n",
    "B <- inv(t(A)%*%A)\n",
    "B"
   ]
  },
  {
   "cell_type": "code",
   "execution_count": 5,
   "metadata": {
    "tags": [],
    "vscode": {
     "languageId": "r"
    }
   },
   "outputs": [
    {
     "data": {
      "text/html": [
       "<table class=\"dataframe\">\n",
       "<caption>A matrix: 2 x 7 of type dbl</caption>\n",
       "<tbody>\n",
       "\t<tr><td>-0.1071428</td><td>-0.07142856</td><td>-0.03571427</td><td>0.00000002</td><td>0.03571431</td><td> 0.0714286</td><td> 0.1071429</td></tr>\n",
       "\t<tr><td> 0.5714286</td><td> 0.42857143</td><td> 0.28571429</td><td>0.14285715</td><td>0.00000001</td><td>-0.1428571</td><td>-0.2857143</td></tr>\n",
       "</tbody>\n",
       "</table>\n"
      ],
      "text/latex": [
       "A matrix: 2 x 7 of type dbl\n",
       "\\begin{tabular}{lllllll}\n",
       "\t -0.1071428 & -0.07142856 & -0.03571427 & 0.00000002 & 0.03571431 &  0.0714286 &  0.1071429\\\\\n",
       "\t  0.5714286 &  0.42857143 &  0.28571429 & 0.14285715 & 0.00000001 & -0.1428571 & -0.2857143\\\\\n",
       "\\end{tabular}\n"
      ],
      "text/markdown": [
       "\n",
       "A matrix: 2 x 7 of type dbl\n",
       "\n",
       "| -0.1071428 | -0.07142856 | -0.03571427 | 0.00000002 | 0.03571431 |  0.0714286 |  0.1071429 |\n",
       "|  0.5714286 |  0.42857143 |  0.28571429 | 0.14285715 | 0.00000001 | -0.1428571 | -0.2857143 |\n",
       "\n"
      ],
      "text/plain": [
       "     [,1]       [,2]        [,3]        [,4]       [,5]       [,6]      \n",
       "[1,] -0.1071428 -0.07142856 -0.03571427 0.00000002 0.03571431  0.0714286\n",
       "[2,]  0.5714286  0.42857143  0.28571429 0.14285715 0.00000001 -0.1428571\n",
       "     [,7]      \n",
       "[1,]  0.1071429\n",
       "[2,] -0.2857143"
      ]
     },
     "metadata": {},
     "output_type": "display_data"
    }
   ],
   "source": [
    "# This is the exact formula for the generalized inverse\n",
    "# namely ginv(A) corresponds to (A.transpose()*A).inverse()*A.transpose\n",
    "B%*%t(A)"
   ]
  },
  {
   "cell_type": "code",
   "execution_count": 6,
   "metadata": {
    "tags": [],
    "vscode": {
     "languageId": "r"
    }
   },
   "outputs": [
    {
     "data": {
      "text/html": [
       "<table class=\"dataframe\">\n",
       "<caption>A matrix: 2 x 7 of type dbl</caption>\n",
       "<tbody>\n",
       "\t<tr><td>-0.1071429</td><td>-0.07142857</td><td>-0.03571429</td><td>4.404187e-17</td><td> 3.571429e-02</td><td> 0.07142857</td><td> 0.1071429</td></tr>\n",
       "\t<tr><td> 0.5714286</td><td> 0.42857143</td><td> 0.28571429</td><td>1.428571e-01</td><td>-4.361179e-17</td><td>-0.14285714</td><td>-0.2857143</td></tr>\n",
       "</tbody>\n",
       "</table>\n"
      ],
      "text/latex": [
       "A matrix: 2 x 7 of type dbl\n",
       "\\begin{tabular}{lllllll}\n",
       "\t -0.1071429 & -0.07142857 & -0.03571429 & 4.404187e-17 &  3.571429e-02 &  0.07142857 &  0.1071429\\\\\n",
       "\t  0.5714286 &  0.42857143 &  0.28571429 & 1.428571e-01 & -4.361179e-17 & -0.14285714 & -0.2857143\\\\\n",
       "\\end{tabular}\n"
      ],
      "text/markdown": [
       "\n",
       "A matrix: 2 x 7 of type dbl\n",
       "\n",
       "| -0.1071429 | -0.07142857 | -0.03571429 | 4.404187e-17 |  3.571429e-02 |  0.07142857 |  0.1071429 |\n",
       "|  0.5714286 |  0.42857143 |  0.28571429 | 1.428571e-01 | -4.361179e-17 | -0.14285714 | -0.2857143 |\n",
       "\n"
      ],
      "text/plain": [
       "     [,1]       [,2]        [,3]        [,4]         [,5]          [,6]       \n",
       "[1,] -0.1071429 -0.07142857 -0.03571429 4.404187e-17  3.571429e-02  0.07142857\n",
       "[2,]  0.5714286  0.42857143  0.28571429 1.428571e-01 -4.361179e-17 -0.14285714\n",
       "     [,7]      \n",
       "[1,]  0.1071429\n",
       "[2,] -0.2857143"
      ]
     },
     "metadata": {},
     "output_type": "display_data"
    }
   ],
   "source": [
    "# Let us recall ginv(A) as computed by R\n",
    "ginv(A)"
   ]
  },
  {
   "cell_type": "code",
   "execution_count": 7,
   "metadata": {
    "tags": [],
    "vscode": {
     "languageId": "r"
    }
   },
   "outputs": [
    {
     "data": {
      "text/html": [
       "<table class=\"dataframe\">\n",
       "<caption>A matrix: 2 x 7 of type lgl</caption>\n",
       "<tbody>\n",
       "\t<tr><td>FALSE</td><td>FALSE</td><td>FALSE</td><td>FALSE</td><td>FALSE</td><td>FALSE</td><td>FALSE</td></tr>\n",
       "\t<tr><td>FALSE</td><td>FALSE</td><td>FALSE</td><td>FALSE</td><td>FALSE</td><td>FALSE</td><td>FALSE</td></tr>\n",
       "</tbody>\n",
       "</table>\n"
      ],
      "text/latex": [
       "A matrix: 2 x 7 of type lgl\n",
       "\\begin{tabular}{lllllll}\n",
       "\t FALSE & FALSE & FALSE & FALSE & FALSE & FALSE & FALSE\\\\\n",
       "\t FALSE & FALSE & FALSE & FALSE & FALSE & FALSE & FALSE\\\\\n",
       "\\end{tabular}\n"
      ],
      "text/markdown": [
       "\n",
       "A matrix: 2 x 7 of type lgl\n",
       "\n",
       "| FALSE | FALSE | FALSE | FALSE | FALSE | FALSE | FALSE |\n",
       "| FALSE | FALSE | FALSE | FALSE | FALSE | FALSE | FALSE |\n",
       "\n"
      ],
      "text/plain": [
       "     [,1]  [,2]  [,3]  [,4]  [,5]  [,6]  [,7] \n",
       "[1,] FALSE FALSE FALSE FALSE FALSE FALSE FALSE\n",
       "[2,] FALSE FALSE FALSE FALSE FALSE FALSE FALSE"
      ]
     },
     "metadata": {},
     "output_type": "display_data"
    }
   ],
   "source": [
    "# We see that the two matrices do no exatcly coincide, due to rounding errors\n",
    "ginv(A) == B%*%t(A)"
   ]
  },
  {
   "cell_type": "code",
   "execution_count": 8,
   "metadata": {
    "collapsed": false,
    "jupyter": {
     "outputs_hidden": false
    },
    "tags": [],
    "vscode": {
     "languageId": "r"
    }
   },
   "outputs": [
    {
     "data": {
      "image/png": "[encoded data removed]",
      "text/plain": [
       "Plot with title \"Least Squares Line\""
      ]
     },
     "metadata": {
      "image/png": {
       "height": 420,
       "width": 420
      }
     },
     "output_type": "display_data"
    }
   ],
   "source": [
    "# Initialize the plot figure with axis labels and a title\n",
    "plot(x = NULL, y = NULL, xlim = c(0, 8), ylim = c(-5, 80), xlab = \"x\", ylab = \"y\", main = \"Least Squares Line\")\n",
    "\n",
    "# Plot the data points with larger size\n",
    "points(x = c(1, 2, 3, 4, 5, 6, 7), y = c(25, 15, 9, 24, 37, 50, 51), col = \"red\", pch = 20, cex = 1.5)\n",
    "\n",
    "# Define the function corresponding to the least squares line\n",
    "f <- function(x) { X[1] * x + X[2] }\n",
    "\n",
    "# Plot the least squares line\n",
    "curve(f, from = 0, to = 8, add = TRUE)"
   ]
  },
  {
   "attachments": {},
   "cell_type": "markdown",
   "metadata": {},
   "source": [
    "In the following we will set up the least square parabola.\n"
   ]
  },
  {
   "cell_type": "code",
   "execution_count": 9,
   "metadata": {
    "collapsed": false,
    "jupyter": {
     "outputs_hidden": false
    },
    "tags": [],
    "vscode": {
     "languageId": "r"
    }
   },
   "outputs": [
    {
     "data": {
      "text/html": [
       "<table class=\"dataframe\">\n",
       "<caption>A matrix: 3 x 7 of type dbl</caption>\n",
       "<tbody>\n",
       "\t<tr><td> 0.05952381</td><td>-6.790388e-18</td><td>-0.03571429</td><td>-0.04761905</td><td>-0.03571429</td><td>-3.005410e-17</td><td> 0.05952381</td></tr>\n",
       "\t<tr><td>-0.58333333</td><td>-7.142857e-02</td><td> 0.25000000</td><td> 0.38095238</td><td> 0.32142857</td><td> 7.142857e-02</td><td>-0.36904762</td></tr>\n",
       "\t<tr><td> 1.28571429</td><td> 4.285714e-01</td><td>-0.14285714</td><td>-0.42857143</td><td>-0.42857143</td><td>-1.428571e-01</td><td> 0.42857143</td></tr>\n",
       "</tbody>\n",
       "</table>\n"
      ],
      "text/latex": [
       "A matrix: 3 x 7 of type dbl\n",
       "\\begin{tabular}{lllllll}\n",
       "\t  0.05952381 & -6.790388e-18 & -0.03571429 & -0.04761905 & -0.03571429 & -3.005410e-17 &  0.05952381\\\\\n",
       "\t -0.58333333 & -7.142857e-02 &  0.25000000 &  0.38095238 &  0.32142857 &  7.142857e-02 & -0.36904762\\\\\n",
       "\t  1.28571429 &  4.285714e-01 & -0.14285714 & -0.42857143 & -0.42857143 & -1.428571e-01 &  0.42857143\\\\\n",
       "\\end{tabular}\n"
      ],
      "text/markdown": [
       "\n",
       "A matrix: 3 x 7 of type dbl\n",
       "\n",
       "|  0.05952381 | -6.790388e-18 | -0.03571429 | -0.04761905 | -0.03571429 | -3.005410e-17 |  0.05952381 |\n",
       "| -0.58333333 | -7.142857e-02 |  0.25000000 |  0.38095238 |  0.32142857 |  7.142857e-02 | -0.36904762 |\n",
       "|  1.28571429 |  4.285714e-01 | -0.14285714 | -0.42857143 | -0.42857143 | -1.428571e-01 |  0.42857143 |\n",
       "\n"
      ],
      "text/plain": [
       "     [,1]        [,2]          [,3]        [,4]        [,5]       \n",
       "[1,]  0.05952381 -6.790388e-18 -0.03571429 -0.04761905 -0.03571429\n",
       "[2,] -0.58333333 -7.142857e-02  0.25000000  0.38095238  0.32142857\n",
       "[3,]  1.28571429  4.285714e-01 -0.14285714 -0.42857143 -0.42857143\n",
       "     [,6]          [,7]       \n",
       "[1,] -3.005410e-17  0.05952381\n",
       "[2,]  7.142857e-02 -0.36904762\n",
       "[3,] -1.428571e-01  0.42857143"
      ]
     },
     "metadata": {},
     "output_type": "display_data"
    },
    {
     "data": {
      "text/html": [
       "<table class=\"dataframe\">\n",
       "<caption>A matrix: 7 x 7 of type dbl</caption>\n",
       "<tbody>\n",
       "\t<tr><td> 0.76190476</td><td> 3.571429e-01</td><td> 0.07142857</td><td>-0.0952381</td><td>-0.14285714</td><td>-0.07142857</td><td> 0.11904762</td></tr>\n",
       "\t<tr><td> 0.35714286</td><td> 2.857143e-01</td><td> 0.21428571</td><td> 0.1428571</td><td> 0.07142857</td><td> 0.00000000</td><td>-0.07142857</td></tr>\n",
       "\t<tr><td> 0.07142857</td><td> 2.142857e-01</td><td> 0.28571429</td><td> 0.2857143</td><td> 0.21428571</td><td> 0.07142857</td><td>-0.14285714</td></tr>\n",
       "\t<tr><td>-0.09523810</td><td> 1.428571e-01</td><td> 0.28571429</td><td> 0.3333333</td><td> 0.28571429</td><td> 0.14285714</td><td>-0.09523810</td></tr>\n",
       "\t<tr><td>-0.14285714</td><td> 7.142857e-02</td><td> 0.21428571</td><td> 0.2857143</td><td> 0.28571429</td><td> 0.21428571</td><td> 0.07142857</td></tr>\n",
       "\t<tr><td>-0.07142857</td><td>-1.665335e-16</td><td> 0.07142857</td><td> 0.1428571</td><td> 0.21428571</td><td> 0.28571429</td><td> 0.35714286</td></tr>\n",
       "\t<tr><td> 0.11904762</td><td>-7.142857e-02</td><td>-0.14285714</td><td>-0.0952381</td><td> 0.07142857</td><td> 0.35714286</td><td> 0.76190476</td></tr>\n",
       "</tbody>\n",
       "</table>\n"
      ],
      "text/latex": [
       "A matrix: 7 x 7 of type dbl\n",
       "\\begin{tabular}{lllllll}\n",
       "\t  0.76190476 &  3.571429e-01 &  0.07142857 & -0.0952381 & -0.14285714 & -0.07142857 &  0.11904762\\\\\n",
       "\t  0.35714286 &  2.857143e-01 &  0.21428571 &  0.1428571 &  0.07142857 &  0.00000000 & -0.07142857\\\\\n",
       "\t  0.07142857 &  2.142857e-01 &  0.28571429 &  0.2857143 &  0.21428571 &  0.07142857 & -0.14285714\\\\\n",
       "\t -0.09523810 &  1.428571e-01 &  0.28571429 &  0.3333333 &  0.28571429 &  0.14285714 & -0.09523810\\\\\n",
       "\t -0.14285714 &  7.142857e-02 &  0.21428571 &  0.2857143 &  0.28571429 &  0.21428571 &  0.07142857\\\\\n",
       "\t -0.07142857 & -1.665335e-16 &  0.07142857 &  0.1428571 &  0.21428571 &  0.28571429 &  0.35714286\\\\\n",
       "\t  0.11904762 & -7.142857e-02 & -0.14285714 & -0.0952381 &  0.07142857 &  0.35714286 &  0.76190476\\\\\n",
       "\\end{tabular}\n"
      ],
      "text/markdown": [
       "\n",
       "A matrix: 7 x 7 of type dbl\n",
       "\n",
       "|  0.76190476 |  3.571429e-01 |  0.07142857 | -0.0952381 | -0.14285714 | -0.07142857 |  0.11904762 |\n",
       "|  0.35714286 |  2.857143e-01 |  0.21428571 |  0.1428571 |  0.07142857 |  0.00000000 | -0.07142857 |\n",
       "|  0.07142857 |  2.142857e-01 |  0.28571429 |  0.2857143 |  0.21428571 |  0.07142857 | -0.14285714 |\n",
       "| -0.09523810 |  1.428571e-01 |  0.28571429 |  0.3333333 |  0.28571429 |  0.14285714 | -0.09523810 |\n",
       "| -0.14285714 |  7.142857e-02 |  0.21428571 |  0.2857143 |  0.28571429 |  0.21428571 |  0.07142857 |\n",
       "| -0.07142857 | -1.665335e-16 |  0.07142857 |  0.1428571 |  0.21428571 |  0.28571429 |  0.35714286 |\n",
       "|  0.11904762 | -7.142857e-02 | -0.14285714 | -0.0952381 |  0.07142857 |  0.35714286 |  0.76190476 |\n",
       "\n"
      ],
      "text/plain": [
       "     [,1]        [,2]          [,3]        [,4]       [,5]        [,6]       \n",
       "[1,]  0.76190476  3.571429e-01  0.07142857 -0.0952381 -0.14285714 -0.07142857\n",
       "[2,]  0.35714286  2.857143e-01  0.21428571  0.1428571  0.07142857  0.00000000\n",
       "[3,]  0.07142857  2.142857e-01  0.28571429  0.2857143  0.21428571  0.07142857\n",
       "[4,] -0.09523810  1.428571e-01  0.28571429  0.3333333  0.28571429  0.14285714\n",
       "[5,] -0.14285714  7.142857e-02  0.21428571  0.2857143  0.28571429  0.21428571\n",
       "[6,] -0.07142857 -1.665335e-16  0.07142857  0.1428571  0.21428571  0.28571429\n",
       "[7,]  0.11904762 -7.142857e-02 -0.14285714 -0.0952381  0.07142857  0.35714286\n",
       "     [,7]       \n",
       "[1,]  0.11904762\n",
       "[2,] -0.07142857\n",
       "[3,] -0.14285714\n",
       "[4,] -0.09523810\n",
       "[5,]  0.07142857\n",
       "[6,]  0.35714286\n",
       "[7,]  0.76190476"
      ]
     },
     "metadata": {},
     "output_type": "display_data"
    },
    {
     "data": {
      "text/html": [
       "<table class=\"dataframe\">\n",
       "<caption>A matrix: 3 x 1 of type dbl</caption>\n",
       "<tbody>\n",
       "\t<tr><td> 1.738095</td></tr>\n",
       "\t<tr><td>-7.619048</td></tr>\n",
       "\t<tr><td>25.857143</td></tr>\n",
       "</tbody>\n",
       "</table>\n"
      ],
      "text/latex": [
       "A matrix: 3 x 1 of type dbl\n",
       "\\begin{tabular}{l}\n",
       "\t  1.738095\\\\\n",
       "\t -7.619048\\\\\n",
       "\t 25.857143\\\\\n",
       "\\end{tabular}\n"
      ],
      "text/markdown": [
       "\n",
       "A matrix: 3 x 1 of type dbl\n",
       "\n",
       "|  1.738095 |\n",
       "| -7.619048 |\n",
       "| 25.857143 |\n",
       "\n"
      ],
      "text/plain": [
       "     [,1]     \n",
       "[1,]  1.738095\n",
       "[2,] -7.619048\n",
       "[3,] 25.857143"
      ]
     },
     "metadata": {},
     "output_type": "display_data"
    }
   ],
   "source": [
    "# Create a new matrix A with three columns\n",
    "A <- matrix(c(1, 4, 9, 16, 25, 36, 49, 1, 2, 3, 4, 5, 6, 7, rep(1, times=7)), ncol = 3)\n",
    "\n",
    "# Recalculate M, P, and X for the new matrix A\n",
    "M <- ginv(A) # Moore-Penrose-Pseudoinverse\n",
    "M\n",
    "P <- A %*% M\n",
    "P\n",
    "X <- M %*% Y\n",
    "X"
   ]
  },
  {
   "cell_type": "code",
   "execution_count": 10,
   "metadata": {
    "collapsed": false,
    "jupyter": {
     "outputs_hidden": false
    },
    "tags": [],
    "vscode": {
     "languageId": "r"
    }
   },
   "outputs": [
    {
     "data": {
      "image/png": "[encoded data removed]",
      "text/plain": [
       "Plot with title \"Least squares parabola\""
      ]
     },
     "metadata": {
      "image/png": {
       "height": 420,
       "width": 420
      }
     },
     "output_type": "display_data"
    }
   ],
   "source": [
    "# Initialize the plot figure\n",
    "plot(x = NULL, y = NULL, xlim = c(0, 8), ylim = c(-5, 80), xlab = \"x\", ylab = \"y\", main = \"Least squares parabola\")\n",
    "# Replot the data points\n",
    "points(x = c(1, 2, 3, 4, 5, 6, 7), y = c(25, 15, 9, 24, 37, 50, 51), col = \"red\", pch = 20, cex = 1.5)\n",
    "# Define the function corresponding to the least squares parabola\n",
    "g <- function(x) { X[1] * x^2 + X[2] * x + X[3] }\n",
    "# Plot the least squares parabola\n",
    "curve(g, from = 0, to = 8, add = TRUE)"
   ]
  },
  {
   "attachments": {},
   "cell_type": "markdown",
   "metadata": {},
   "source": [
    "In the notebook on least square approximation, the next step involves comparing the \"predicted value for y8\" with the \"decimal approximation of y8\".\n",
    "\n",
    "y8 = f.substitute\\( x == 8\\)\n",
    "\n",
    "show\\(y8\\)\n",
    "\n",
    "RR\\(y8\\)\n",
    "\n",
    "However, this comparison does not make sense in the given R code. In symbolic computation systems like Sage, mathematical expressions are often represented symbolically, meaning they are represented as symbolic variables and equations. The decimal approximation is obtained by converting the symbolic expression to a decimal number using a function like RR\\(\\).\n"
   ]
  },
  {
   "attachments": {},
   "cell_type": "markdown",
   "metadata": {},
   "source": [
    "If for example the the rank of the matrix A is not full, we cannot use the model we set up earlier but we can ask R to find the linear regression coefficients, just like in Sage.\n",
    "\n",
    "data = \\[\\(1,25\\),\\(2,15\\),\\(3,9\\),\\(4,24\\),\\(5,37\\),\\(6,50\\),\\(7,51\\)\\]\n",
    "\n",
    "var\\('a, b, x'\\)\n",
    "\n",
    "model\\(x\\) = a\\*x \\+ b\n",
    "\n",
    "sol = find\\_fit\\(data,model\\)\n",
    "\n",
    "show\\(sol\\)\n",
    "\n",
    "fnum = model\\(a=sol\\[0\\].rhs\\(\\),b=sol\\[1\\].rhs\\(\\)\\)\n",
    "\n",
    "show\\(fnum\\)\n",
    "\n",
    "var\\('a, b, c, x'\\)\n",
    "\n",
    "model2\\(x\\) = a\\*x^2 \\+ b\\*x \\+c\n",
    "\n",
    "sol2 = find\\_fit\\(data,model2\\)\n",
    "\n",
    "gnum = model2\\(a=sol2\\[0\\].rhs\\(\\),b=sol2\\[1\\].rhs\\(\\),c=sol2\\[2\\].rhs\\(\\)\\)\n",
    "\n",
    "show\\(gnum\\)\n"
   ]
  },
  {
   "cell_type": "code",
   "execution_count": 12,
   "metadata": {
    "collapsed": false,
    "jupyter": {
     "outputs_hidden": false
    },
    "tags": [],
    "vscode": {
     "languageId": "r"
    }
   },
   "outputs": [
    {
     "name": "stdout",
     "output_type": "stream",
     "text": [
      "\n",
      "Call:\n",
      "lm(formula = y ~ x, data = data)\n",
      "\n",
      "Coefficients:\n",
      "(Intercept)            x  \n",
      "      5.000        6.286  \n",
      "\n",
      "\n",
      "Call:\n",
      "lm(formula = y ~ poly(x, 2, raw = TRUE), data = data)\n",
      "\n",
      "Coefficients:\n",
      "            (Intercept)  poly(x, 2, raw = TRUE)1  poly(x, 2, raw = TRUE)2  \n",
      "                 25.857                   -7.619                    1.738  \n",
      "\n"
     ]
    }
   ],
   "source": [
    "data <- data.frame(x = c(1, 2, 3, 4, 5, 6, 7), y = c(25, 15, 9, 24, 37, 50, 51))\n",
    "\n",
    "# Fit a linear model to the data\n",
    "lm_fit <- lm(y ~ x, data = data)\n",
    "print(lm_fit)\n",
    "\n",
    "# Fit a quadratic model to the data\n",
    "quad_fit <- lm(y ~ poly(x, 2, raw = TRUE), data = data)\n",
    "print(quad_fit)"
   ]
  },
  {
   "cell_type": "code",
   "execution_count": 13,
   "metadata": {
    "collapsed": false,
    "jupyter": {
     "outputs_hidden": false
    },
    "tags": [],
    "vscode": {
     "languageId": "r"
    }
   },
   "outputs": [
    {
     "data": {
      "text/html": [
       "<strong>(Intercept):</strong> -3.5527136788005e-15"
      ],
      "text/latex": [
       "\\textbf{(Intercept):} -3.5527136788005e-15"
      ],
      "text/markdown": [
       "**(Intercept):** -3.5527136788005e-15"
      ],
      "text/plain": [
       "  (Intercept) \n",
       "-3.552714e-15 "
      ]
     },
     "metadata": {},
     "output_type": "display_data"
    },
    {
     "data": {
      "text/html": [
       "<strong>(Intercept):</strong> FALSE"
      ],
      "text/latex": [
       "\\textbf{(Intercept):} FALSE"
      ],
      "text/markdown": [
       "**(Intercept):** FALSE"
      ],
      "text/plain": [
       "(Intercept) \n",
       "      FALSE "
      ]
     },
     "metadata": {},
     "output_type": "display_data"
    }
   ],
   "source": [
    "# Compare the constant coefficients of the two quadratic polynomials\n",
    "c1 <- coef(quad_fit)[1]\n",
    "c2 <- g(0)\n",
    "c1 - c2\n",
    "c1 == c2"
   ]
  },
  {
   "attachments": {},
   "cell_type": "markdown",
   "metadata": {},
   "source": [
    "---"
   ]
  }
 ],
 "metadata": {
  "kernelspec": {
   "display_name": "R",
   "language": "R",
   "name": "ir"
  },
  "language_info": {
   "codemirror_mode": "r",
   "file_extension": ".r",
   "mimetype": "text/x-r-source",
   "name": "R",
   "pygments_lexer": "r",
   "version": "4.3.0"
  }
 },
 "nbformat": 4,
 "nbformat_minor": 4
}
