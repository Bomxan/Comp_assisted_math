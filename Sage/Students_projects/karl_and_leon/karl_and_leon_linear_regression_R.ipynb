{
 "cells": [
  {
   "cell_type": "markdown",
   "metadata": {
    "collapsed": false
   },
   "source": [
    "# Linear Regression\n",
    "\n"
   ]
  },
  {
   "cell_type": "markdown",
   "metadata": {
    "collapsed": false
   },
   "source": [
    "In our project, we are rewriting the notebook on \"Least squares approximation\" into an R script. We then extend this model by generating a random multidimensional dataset using Python and performing a multiple linear regression with a neural network.\n",
    "\n"
   ]
  },
  {
   "cell_type": "code",
   "execution_count": 7,
   "metadata": {
    "collapsed": false
   },
   "outputs": [
   ],
   "source": [
    "library(Matrix)\n",
    "library(MASS)\n",
    "library(rgl)\n",
    "library(tidyverse)\n",
    "# install.packages('plot3D')\n",
    "library(plot3D)"
   ]
  },
  {
   "cell_type": "markdown",
   "metadata": {
    "collapsed": false
   },
   "source": [
    "While in Sage, these functions are used to create a matrix:\n",
    "\n",
    "A = matrix\\(QQ, \\[\\[1,1\\],\\[2,1\\],\\[3,1\\],\\[4,1\\],\\[5,1\\],\\[6,1\\],\\[7,1\\]\\]\\) \n",
    "\n",
    "Y = matrix\\(QQ, \\[\\[25\\],\\[15\\],\\[9\\],\\[24\\],\\[37\\],\\[50\\],\\[51\\]\\]\\)\n",
    "\n",
    "we define the matrices in R as follows.\n",
    "\n"
   ]
  },
  {
   "cell_type": "code",
   "execution_count": 9,
   "metadata": {
    "collapsed": false
   },
   "outputs": [
    {
     "data": {
      "text/html": [
       "<table class=\"dataframe\">\n",
       "<caption>A matrix: 7 × 2 of type dbl</caption>\n",
       "<tbody>\n",
       "\t<tr><td>1</td><td>1</td></tr>\n",
       "\t<tr><td>2</td><td>1</td></tr>\n",
       "\t<tr><td>3</td><td>1</td></tr>\n",
       "\t<tr><td>4</td><td>1</td></tr>\n",
       "\t<tr><td>5</td><td>1</td></tr>\n",
       "\t<tr><td>6</td><td>1</td></tr>\n",
       "\t<tr><td>7</td><td>1</td></tr>\n",
       "</tbody>\n",
       "</table>\n"
      ],
      "text/latex": [
       "A matrix: 7 × 2 of type dbl\n",
       "\\begin{tabular}{ll}\n",
       "\t 1 & 1\\\\\n",
       "\t 2 & 1\\\\\n",
       "\t 3 & 1\\\\\n",
       "\t 4 & 1\\\\\n",
       "\t 5 & 1\\\\\n",
       "\t 6 & 1\\\\\n",
       "\t 7 & 1\\\\\n",
       "\\end{tabular}\n"
      ],
      "text/markdown": [
       "\n",
       "A matrix: 7 × 2 of type dbl\n",
       "\n",
       "| 1 | 1 |\n",
       "| 2 | 1 |\n",
       "| 3 | 1 |\n",
       "| 4 | 1 |\n",
       "| 5 | 1 |\n",
       "| 6 | 1 |\n",
       "| 7 | 1 |\n",
       "\n"
      ],
      "text/plain": [
       "     [,1] [,2]\n",
       "[1,] 1    1   \n",
       "[2,] 2    1   \n",
       "[3,] 3    1   \n",
       "[4,] 4    1   \n",
       "[5,] 5    1   \n",
       "[6,] 6    1   \n",
       "[7,] 7    1   "
      ]
     },
     "execution_count": 9,
     "metadata": {
     },
     "output_type": "execute_result"
    },
    {
     "data": {
      "text/html": [
       "<table class=\"dataframe\">\n",
       "<caption>A matrix: 7 × 1 of type dbl</caption>\n",
       "<tbody>\n",
       "\t<tr><td>25</td></tr>\n",
       "\t<tr><td>15</td></tr>\n",
       "\t<tr><td> 9</td></tr>\n",
       "\t<tr><td>24</td></tr>\n",
       "\t<tr><td>37</td></tr>\n",
       "\t<tr><td>50</td></tr>\n",
       "\t<tr><td>51</td></tr>\n",
       "</tbody>\n",
       "</table>\n"
      ],
      "text/latex": [
       "A matrix: 7 × 1 of type dbl\n",
       "\\begin{tabular}{l}\n",
       "\t 25\\\\\n",
       "\t 15\\\\\n",
       "\t  9\\\\\n",
       "\t 24\\\\\n",
       "\t 37\\\\\n",
       "\t 50\\\\\n",
       "\t 51\\\\\n",
       "\\end{tabular}\n"
      ],
      "text/markdown": [
       "\n",
       "A matrix: 7 × 1 of type dbl\n",
       "\n",
       "| 25 |\n",
       "| 15 |\n",
       "|  9 |\n",
       "| 24 |\n",
       "| 37 |\n",
       "| 50 |\n",
       "| 51 |\n",
       "\n"
      ],
      "text/plain": [
       "     [,1]\n",
       "[1,] 25  \n",
       "[2,] 15  \n",
       "[3,]  9  \n",
       "[4,] 24  \n",
       "[5,] 37  \n",
       "[6,] 50  \n",
       "[7,] 51  "
      ]
     },
     "execution_count": 9,
     "metadata": {
     },
     "output_type": "execute_result"
    }
   ],
   "source": [
    "# Define the matrices A and Y\n",
    "A <- matrix(c(1, 2, 3, 4, 5, 6, 7, rep(1, times = 7)), ncol = 2)\n",
    "A\n",
    "Y <- matrix(c(25, 15, 9, 24, 37, 50, 51), ncol = 1)\n",
    "Y"
   ]
  },
  {
   "cell_type": "markdown",
   "metadata": {
    "collapsed": false
   },
   "source": [
    "In the following we want to solve the least squares minimisation problem.\n",
    "\n",
    "It is interesting to see, that we need to use the command %\\*% in R for matrix\\-multiplication while we can just use \\* in Sage. This shows again, that Sage is created for mathematical usage while R is not particularly.\n",
    "\n"
   ]
  },
  {
   "cell_type": "code",
   "execution_count": 10,
   "metadata": {
    "collapsed": false
   },
   "outputs": [
    {
     "data": {
      "text/html": [
       "<table class=\"dataframe\">\n",
       "<caption>A matrix: 2 × 7 of type dbl</caption>\n",
       "<tbody>\n",
       "\t<tr><td>-0.1071429</td><td>-0.07142857</td><td>-0.03571429</td><td>2.595216e-17</td><td>3.571429e-02</td><td> 0.07142857</td><td> 0.1071429</td></tr>\n",
       "\t<tr><td> 0.5714286</td><td> 0.42857143</td><td> 0.28571429</td><td>1.428571e-01</td><td>1.161685e-17</td><td>-0.14285714</td><td>-0.2857143</td></tr>\n",
       "</tbody>\n",
       "</table>\n"
      ],
      "text/latex": [
       "A matrix: 2 × 7 of type dbl\n",
       "\\begin{tabular}{lllllll}\n",
       "\t -0.1071429 & -0.07142857 & -0.03571429 & 2.595216e-17 & 3.571429e-02 &  0.07142857 &  0.1071429\\\\\n",
       "\t  0.5714286 &  0.42857143 &  0.28571429 & 1.428571e-01 & 1.161685e-17 & -0.14285714 & -0.2857143\\\\\n",
       "\\end{tabular}\n"
      ],
      "text/markdown": [
       "\n",
       "A matrix: 2 × 7 of type dbl\n",
       "\n",
       "| -0.1071429 | -0.07142857 | -0.03571429 | 2.595216e-17 | 3.571429e-02 |  0.07142857 |  0.1071429 |\n",
       "|  0.5714286 |  0.42857143 |  0.28571429 | 1.428571e-01 | 1.161685e-17 | -0.14285714 | -0.2857143 |\n",
       "\n"
      ],
      "text/plain": [
       "     [,1]       [,2]        [,3]        [,4]         [,5]         [,6]       \n",
       "[1,] -0.1071429 -0.07142857 -0.03571429 2.595216e-17 3.571429e-02  0.07142857\n",
       "[2,]  0.5714286  0.42857143  0.28571429 1.428571e-01 1.161685e-17 -0.14285714\n",
       "     [,7]      \n",
       "[1,]  0.1071429\n",
       "[2,] -0.2857143"
      ]
     },
     "execution_count": 10,
     "metadata": {
     },
     "output_type": "execute_result"
    },
    {
     "data": {
      "text/html": [
       "<table class=\"dataframe\">\n",
       "<caption>A matrix: 7 × 7 of type dbl</caption>\n",
       "<tbody>\n",
       "\t<tr><td> 0.46428571</td><td> 3.571429e-01</td><td>0.25000000</td><td>0.1428571</td><td>0.03571429</td><td>-7.142857e-02</td><td>-0.17857143</td></tr>\n",
       "\t<tr><td> 0.35714286</td><td> 2.857143e-01</td><td>0.21428571</td><td>0.1428571</td><td>0.07142857</td><td> 1.387779e-16</td><td>-0.07142857</td></tr>\n",
       "\t<tr><td> 0.25000000</td><td> 2.142857e-01</td><td>0.17857143</td><td>0.1428571</td><td>0.10714286</td><td> 7.142857e-02</td><td> 0.03571429</td></tr>\n",
       "\t<tr><td> 0.14285714</td><td> 1.428571e-01</td><td>0.14285714</td><td>0.1428571</td><td>0.14285714</td><td> 1.428571e-01</td><td> 0.14285714</td></tr>\n",
       "\t<tr><td> 0.03571429</td><td> 7.142857e-02</td><td>0.10714286</td><td>0.1428571</td><td>0.17857143</td><td> 2.142857e-01</td><td> 0.25000000</td></tr>\n",
       "\t<tr><td>-0.07142857</td><td> 1.110223e-16</td><td>0.07142857</td><td>0.1428571</td><td>0.21428571</td><td> 2.857143e-01</td><td> 0.35714286</td></tr>\n",
       "\t<tr><td>-0.17857143</td><td>-7.142857e-02</td><td>0.03571429</td><td>0.1428571</td><td>0.25000000</td><td> 3.571429e-01</td><td> 0.46428571</td></tr>\n",
       "</tbody>\n",
       "</table>\n"
      ],
      "text/latex": [
       "A matrix: 7 × 7 of type dbl\n",
       "\\begin{tabular}{lllllll}\n",
       "\t  0.46428571 &  3.571429e-01 & 0.25000000 & 0.1428571 & 0.03571429 & -7.142857e-02 & -0.17857143\\\\\n",
       "\t  0.35714286 &  2.857143e-01 & 0.21428571 & 0.1428571 & 0.07142857 &  1.387779e-16 & -0.07142857\\\\\n",
       "\t  0.25000000 &  2.142857e-01 & 0.17857143 & 0.1428571 & 0.10714286 &  7.142857e-02 &  0.03571429\\\\\n",
       "\t  0.14285714 &  1.428571e-01 & 0.14285714 & 0.1428571 & 0.14285714 &  1.428571e-01 &  0.14285714\\\\\n",
       "\t  0.03571429 &  7.142857e-02 & 0.10714286 & 0.1428571 & 0.17857143 &  2.142857e-01 &  0.25000000\\\\\n",
       "\t -0.07142857 &  1.110223e-16 & 0.07142857 & 0.1428571 & 0.21428571 &  2.857143e-01 &  0.35714286\\\\\n",
       "\t -0.17857143 & -7.142857e-02 & 0.03571429 & 0.1428571 & 0.25000000 &  3.571429e-01 &  0.46428571\\\\\n",
       "\\end{tabular}\n"
      ],
      "text/markdown": [
       "\n",
       "A matrix: 7 × 7 of type dbl\n",
       "\n",
       "|  0.46428571 |  3.571429e-01 | 0.25000000 | 0.1428571 | 0.03571429 | -7.142857e-02 | -0.17857143 |\n",
       "|  0.35714286 |  2.857143e-01 | 0.21428571 | 0.1428571 | 0.07142857 |  1.387779e-16 | -0.07142857 |\n",
       "|  0.25000000 |  2.142857e-01 | 0.17857143 | 0.1428571 | 0.10714286 |  7.142857e-02 |  0.03571429 |\n",
       "|  0.14285714 |  1.428571e-01 | 0.14285714 | 0.1428571 | 0.14285714 |  1.428571e-01 |  0.14285714 |\n",
       "|  0.03571429 |  7.142857e-02 | 0.10714286 | 0.1428571 | 0.17857143 |  2.142857e-01 |  0.25000000 |\n",
       "| -0.07142857 |  1.110223e-16 | 0.07142857 | 0.1428571 | 0.21428571 |  2.857143e-01 |  0.35714286 |\n",
       "| -0.17857143 | -7.142857e-02 | 0.03571429 | 0.1428571 | 0.25000000 |  3.571429e-01 |  0.46428571 |\n",
       "\n"
      ],
      "text/plain": [
       "     [,1]        [,2]          [,3]       [,4]      [,5]       [,6]         \n",
       "[1,]  0.46428571  3.571429e-01 0.25000000 0.1428571 0.03571429 -7.142857e-02\n",
       "[2,]  0.35714286  2.857143e-01 0.21428571 0.1428571 0.07142857  1.387779e-16\n",
       "[3,]  0.25000000  2.142857e-01 0.17857143 0.1428571 0.10714286  7.142857e-02\n",
       "[4,]  0.14285714  1.428571e-01 0.14285714 0.1428571 0.14285714  1.428571e-01\n",
       "[5,]  0.03571429  7.142857e-02 0.10714286 0.1428571 0.17857143  2.142857e-01\n",
       "[6,] -0.07142857  1.110223e-16 0.07142857 0.1428571 0.21428571  2.857143e-01\n",
       "[7,] -0.17857143 -7.142857e-02 0.03571429 0.1428571 0.25000000  3.571429e-01\n",
       "     [,7]       \n",
       "[1,] -0.17857143\n",
       "[2,] -0.07142857\n",
       "[3,]  0.03571429\n",
       "[4,]  0.14285714\n",
       "[5,]  0.25000000\n",
       "[6,]  0.35714286\n",
       "[7,]  0.46428571"
      ]
     },
     "execution_count": 10,
     "metadata": {
     },
     "output_type": "execute_result"
    },
    {
     "data": {
      "text/html": [
       "<table class=\"dataframe\">\n",
       "<caption>A matrix: 2 × 1 of type dbl</caption>\n",
       "<tbody>\n",
       "\t<tr><td>6.285714</td></tr>\n",
       "\t<tr><td>5.000000</td></tr>\n",
       "</tbody>\n",
       "</table>\n"
      ],
      "text/latex": [
       "A matrix: 2 × 1 of type dbl\n",
       "\\begin{tabular}{l}\n",
       "\t 6.285714\\\\\n",
       "\t 5.000000\\\\\n",
       "\\end{tabular}\n"
      ],
      "text/markdown": [
       "\n",
       "A matrix: 2 × 1 of type dbl\n",
       "\n",
       "| 6.285714 |\n",
       "| 5.000000 |\n",
       "\n"
      ],
      "text/plain": [
       "     [,1]    \n",
       "[1,] 6.285714\n",
       "[2,] 5.000000"
      ]
     },
     "execution_count": 10,
     "metadata": {
     },
     "output_type": "execute_result"
    }
   ],
   "source": [
    "# M = (A.transpose()*A).inverse()*A.transpose()\n",
    "M <- ginv(A) \n",
    "M\n",
    "# P is the projection matrix in R^7\n",
    "P <- A %*% M\n",
    "P\n",
    "# X is the solution to the least squares problem\n",
    "X <- M %*% Y\n",
    "X"
   ]
  },
  {
   "cell_type": "code",
   "execution_count": 11,
   "metadata": {
    "collapsed": false
   },
   "outputs": [
    {
     "data": {
      "image/png": "[encoded data removed]",
      "text/plain": [
       "Plot with title “Least Squares Line”"
      ]
     },
     "execution_count": 11,
     "metadata": {
      "image/png": {
       "height": 420,
       "width": 420
      }
     },
     "output_type": "execute_result"
    }
   ],
   "source": [
    "# Initialize the plot figure with axis labels and a title\n",
    "plot(x = NULL, y = NULL, xlim = c(0, 8), ylim = c(-5, 80), xlab = \"x\", ylab = \"y\", main = \"Least Squares Line\")\n",
    "\n",
    "# Plot the data points with larger size\n",
    "points(x = c(1, 2, 3, 4, 5, 6, 7), y = c(25, 15, 9, 24, 37, 50, 51), col = \"red\", pch = 20, cex = 1.5)\n",
    "\n",
    "# Define the function corresponding to the least squares line\n",
    "f <- function(x) { X[1] * x + X[2] }\n",
    "\n",
    "# Plot the least squares line\n",
    "curve(f, from = 0, to = 8, add = TRUE)"
   ]
  },
  {
   "cell_type": "markdown",
   "metadata": {
    "collapsed": false
   },
   "source": [
    "In the following we will set up the least square parabola.\n"
   ]
  },
  {
   "cell_type": "code",
   "execution_count": 13,
   "metadata": {
    "collapsed": false
   },
   "outputs": [
    {
     "data": {
      "text/html": [
       "<table class=\"dataframe\">\n",
       "<caption>A matrix: 3 × 7 of type dbl</caption>\n",
       "<tbody>\n",
       "\t<tr><td> 0.05952381</td><td> 1.417212e-16</td><td>-0.03571429</td><td>-0.04761905</td><td>-0.03571429</td><td>-4.554694e-17</td><td> 0.05952381</td></tr>\n",
       "\t<tr><td>-0.58333333</td><td>-7.142857e-02</td><td> 0.25000000</td><td> 0.38095238</td><td> 0.32142857</td><td> 7.142857e-02</td><td>-0.36904762</td></tr>\n",
       "\t<tr><td> 1.28571429</td><td> 4.285714e-01</td><td>-0.14285714</td><td>-0.42857143</td><td>-0.42857143</td><td>-1.428571e-01</td><td> 0.42857143</td></tr>\n",
       "</tbody>\n",
       "</table>\n"
      ],
      "text/latex": [
       "A matrix: 3 × 7 of type dbl\n",
       "\\begin{tabular}{lllllll}\n",
       "\t  0.05952381 &  1.417212e-16 & -0.03571429 & -0.04761905 & -0.03571429 & -4.554694e-17 &  0.05952381\\\\\n",
       "\t -0.58333333 & -7.142857e-02 &  0.25000000 &  0.38095238 &  0.32142857 &  7.142857e-02 & -0.36904762\\\\\n",
       "\t  1.28571429 &  4.285714e-01 & -0.14285714 & -0.42857143 & -0.42857143 & -1.428571e-01 &  0.42857143\\\\\n",
       "\\end{tabular}\n"
      ],
      "text/markdown": [
       "\n",
       "A matrix: 3 × 7 of type dbl\n",
       "\n",
       "|  0.05952381 |  1.417212e-16 | -0.03571429 | -0.04761905 | -0.03571429 | -4.554694e-17 |  0.05952381 |\n",
       "| -0.58333333 | -7.142857e-02 |  0.25000000 |  0.38095238 |  0.32142857 |  7.142857e-02 | -0.36904762 |\n",
       "|  1.28571429 |  4.285714e-01 | -0.14285714 | -0.42857143 | -0.42857143 | -1.428571e-01 |  0.42857143 |\n",
       "\n"
      ],
      "text/plain": [
       "     [,1]        [,2]          [,3]        [,4]        [,5]       \n",
       "[1,]  0.05952381  1.417212e-16 -0.03571429 -0.04761905 -0.03571429\n",
       "[2,] -0.58333333 -7.142857e-02  0.25000000  0.38095238  0.32142857\n",
       "[3,]  1.28571429  4.285714e-01 -0.14285714 -0.42857143 -0.42857143\n",
       "     [,6]          [,7]       \n",
       "[1,] -4.554694e-17  0.05952381\n",
       "[2,]  7.142857e-02 -0.36904762\n",
       "[3,] -1.428571e-01  0.42857143"
      ]
     },
     "execution_count": 13,
     "metadata": {
     },
     "output_type": "execute_result"
    },
    {
     "data": {
      "text/html": [
       "<table class=\"dataframe\">\n",
       "<caption>A matrix: 7 × 7 of type dbl</caption>\n",
       "<tbody>\n",
       "\t<tr><td> 0.76190476</td><td> 0.35714286</td><td> 0.07142857</td><td>-0.0952381</td><td>-0.14285714</td><td>-7.142857e-02</td><td> 0.11904762</td></tr>\n",
       "\t<tr><td> 0.35714286</td><td> 0.28571429</td><td> 0.21428571</td><td> 0.1428571</td><td> 0.07142857</td><td>-5.551115e-17</td><td>-0.07142857</td></tr>\n",
       "\t<tr><td> 0.07142857</td><td> 0.21428571</td><td> 0.28571429</td><td> 0.2857143</td><td> 0.21428571</td><td> 7.142857e-02</td><td>-0.14285714</td></tr>\n",
       "\t<tr><td>-0.09523810</td><td> 0.14285714</td><td> 0.28571429</td><td> 0.3333333</td><td> 0.28571429</td><td> 1.428571e-01</td><td>-0.09523810</td></tr>\n",
       "\t<tr><td>-0.14285714</td><td> 0.07142857</td><td> 0.21428571</td><td> 0.2857143</td><td> 0.28571429</td><td> 2.142857e-01</td><td> 0.07142857</td></tr>\n",
       "\t<tr><td>-0.07142857</td><td> 0.00000000</td><td> 0.07142857</td><td> 0.1428571</td><td> 0.21428571</td><td> 2.857143e-01</td><td> 0.35714286</td></tr>\n",
       "\t<tr><td> 0.11904762</td><td>-0.07142857</td><td>-0.14285714</td><td>-0.0952381</td><td> 0.07142857</td><td> 3.571429e-01</td><td> 0.76190476</td></tr>\n",
       "</tbody>\n",
       "</table>\n"
      ],
      "text/latex": [
       "A matrix: 7 × 7 of type dbl\n",
       "\\begin{tabular}{lllllll}\n",
       "\t  0.76190476 &  0.35714286 &  0.07142857 & -0.0952381 & -0.14285714 & -7.142857e-02 &  0.11904762\\\\\n",
       "\t  0.35714286 &  0.28571429 &  0.21428571 &  0.1428571 &  0.07142857 & -5.551115e-17 & -0.07142857\\\\\n",
       "\t  0.07142857 &  0.21428571 &  0.28571429 &  0.2857143 &  0.21428571 &  7.142857e-02 & -0.14285714\\\\\n",
       "\t -0.09523810 &  0.14285714 &  0.28571429 &  0.3333333 &  0.28571429 &  1.428571e-01 & -0.09523810\\\\\n",
       "\t -0.14285714 &  0.07142857 &  0.21428571 &  0.2857143 &  0.28571429 &  2.142857e-01 &  0.07142857\\\\\n",
       "\t -0.07142857 &  0.00000000 &  0.07142857 &  0.1428571 &  0.21428571 &  2.857143e-01 &  0.35714286\\\\\n",
       "\t  0.11904762 & -0.07142857 & -0.14285714 & -0.0952381 &  0.07142857 &  3.571429e-01 &  0.76190476\\\\\n",
       "\\end{tabular}\n"
      ],
      "text/markdown": [
       "\n",
       "A matrix: 7 × 7 of type dbl\n",
       "\n",
       "|  0.76190476 |  0.35714286 |  0.07142857 | -0.0952381 | -0.14285714 | -7.142857e-02 |  0.11904762 |\n",
       "|  0.35714286 |  0.28571429 |  0.21428571 |  0.1428571 |  0.07142857 | -5.551115e-17 | -0.07142857 |\n",
       "|  0.07142857 |  0.21428571 |  0.28571429 |  0.2857143 |  0.21428571 |  7.142857e-02 | -0.14285714 |\n",
       "| -0.09523810 |  0.14285714 |  0.28571429 |  0.3333333 |  0.28571429 |  1.428571e-01 | -0.09523810 |\n",
       "| -0.14285714 |  0.07142857 |  0.21428571 |  0.2857143 |  0.28571429 |  2.142857e-01 |  0.07142857 |\n",
       "| -0.07142857 |  0.00000000 |  0.07142857 |  0.1428571 |  0.21428571 |  2.857143e-01 |  0.35714286 |\n",
       "|  0.11904762 | -0.07142857 | -0.14285714 | -0.0952381 |  0.07142857 |  3.571429e-01 |  0.76190476 |\n",
       "\n"
      ],
      "text/plain": [
       "     [,1]        [,2]        [,3]        [,4]       [,5]        [,6]         \n",
       "[1,]  0.76190476  0.35714286  0.07142857 -0.0952381 -0.14285714 -7.142857e-02\n",
       "[2,]  0.35714286  0.28571429  0.21428571  0.1428571  0.07142857 -5.551115e-17\n",
       "[3,]  0.07142857  0.21428571  0.28571429  0.2857143  0.21428571  7.142857e-02\n",
       "[4,] -0.09523810  0.14285714  0.28571429  0.3333333  0.28571429  1.428571e-01\n",
       "[5,] -0.14285714  0.07142857  0.21428571  0.2857143  0.28571429  2.142857e-01\n",
       "[6,] -0.07142857  0.00000000  0.07142857  0.1428571  0.21428571  2.857143e-01\n",
       "[7,]  0.11904762 -0.07142857 -0.14285714 -0.0952381  0.07142857  3.571429e-01\n",
       "     [,7]       \n",
       "[1,]  0.11904762\n",
       "[2,] -0.07142857\n",
       "[3,] -0.14285714\n",
       "[4,] -0.09523810\n",
       "[5,]  0.07142857\n",
       "[6,]  0.35714286\n",
       "[7,]  0.76190476"
      ]
     },
     "execution_count": 13,
     "metadata": {
     },
     "output_type": "execute_result"
    },
    {
     "data": {
      "text/html": [
       "<table class=\"dataframe\">\n",
       "<caption>A matrix: 3 × 1 of type dbl</caption>\n",
       "<tbody>\n",
       "\t<tr><td> 1.738095</td></tr>\n",
       "\t<tr><td>-7.619048</td></tr>\n",
       "\t<tr><td>25.857143</td></tr>\n",
       "</tbody>\n",
       "</table>\n"
      ],
      "text/latex": [
       "A matrix: 3 × 1 of type dbl\n",
       "\\begin{tabular}{l}\n",
       "\t  1.738095\\\\\n",
       "\t -7.619048\\\\\n",
       "\t 25.857143\\\\\n",
       "\\end{tabular}\n"
      ],
      "text/markdown": [
       "\n",
       "A matrix: 3 × 1 of type dbl\n",
       "\n",
       "|  1.738095 |\n",
       "| -7.619048 |\n",
       "| 25.857143 |\n",
       "\n"
      ],
      "text/plain": [
       "     [,1]     \n",
       "[1,]  1.738095\n",
       "[2,] -7.619048\n",
       "[3,] 25.857143"
      ]
     },
     "execution_count": 13,
     "metadata": {
     },
     "output_type": "execute_result"
    }
   ],
   "source": [
    "# Create a new matrix A with three columns\n",
    "A <- matrix(c(1, 4, 9, 16, 25, 36, 49, 1, 2, 3, 4, 5, 6, 7, rep(1, times=7)), ncol = 3)\n",
    "\n",
    "# Recalculate M, P, and X for the new matrix A\n",
    "M <- ginv(A) # Moore-Penrose-Pseudoinverse\n",
    "M\n",
    "P <- A %*% M\n",
    "P\n",
    "X <- M %*% Y\n",
    "X"
   ]
  },
  {
   "cell_type": "code",
   "execution_count": 14,
   "metadata": {
    "collapsed": false
   },
   "outputs": [
    {
     "data": {
      "image/png": "[encoded data removed]",
      "text/plain": [
       "Plot with title “Least squares parabola”"
      ]
     },
     "execution_count": 14,
     "metadata": {
      "image/png": {
       "height": 420,
       "width": 420
      }
     },
     "output_type": "execute_result"
    }
   ],
   "source": [
    "# Initialize the plot figure\n",
    "plot(x = NULL, y = NULL, xlim = c(0, 8), ylim = c(-5, 80), xlab = \"x\", ylab = \"y\", main = \"Least squares parabola\")\n",
    "# Replot the data points\n",
    "points(x = c(1, 2, 3, 4, 5, 6, 7), y = c(25, 15, 9, 24, 37, 50, 51), col = \"red\", pch = 20, cex = 1.5)\n",
    "# Define the function corresponding to the least squares parabola\n",
    "g <- function(x) { X[1] * x^2 + X[2] * x + X[3] }\n",
    "# Plot the least squares parabola\n",
    "curve(g, from = 0, to = 8, add = TRUE)"
   ]
  },
  {
   "cell_type": "markdown",
   "metadata": {
    "collapsed": false
   },
   "source": [
    "In the notebook on least square approximation, the next step involves comparing the \"predicted value for y8\" with the \"decimal approximation of y8\".\n",
    "\n",
    "y8 = f.substitute\\( x == 8\\)\n",
    "\n",
    "show\\(y8\\)\n",
    "\n",
    "RR\\(y8\\)\n",
    "\n",
    "However, this comparison does not make sense in the given R code. In symbolic computation systems like Sage, mathematical expressions are often represented symbolically, meaning they are represented as symbolic variables and equations. The decimal approximation is obtained by converting the symbolic expression to a decimal number using a function like RR\\(\\).\n"
   ]
  },
  {
   "cell_type": "markdown",
   "metadata": {
    "collapsed": false
   },
   "source": [
    "If for example the the rank of the matrix A is not full, we cannot use the model we set up earlier but we can ask R to find the linear regression coefficients, just like in Sage.\n",
    "\n",
    "data = \\[\\(1,25\\),\\(2,15\\),\\(3,9\\),\\(4,24\\),\\(5,37\\),\\(6,50\\),\\(7,51\\)\\]\n",
    "\n",
    "var\\('a, b, x'\\)\n",
    "\n",
    "model\\(x\\) = a\\*x \\+ b\n",
    "\n",
    "sol = find\\_fit\\(data,model\\)\n",
    "\n",
    "show\\(sol\\)\n",
    "\n",
    "fnum = model\\(a=sol\\[0\\].rhs\\(\\),b=sol\\[1\\].rhs\\(\\)\\)\n",
    "\n",
    "show\\(fnum\\)\n",
    "\n",
    "var\\('a, b, c, x'\\)\n",
    "\n",
    "model2\\(x\\) = a\\*x^2 \\+ b\\*x \\+c\n",
    "\n",
    "sol2 = find\\_fit\\(data,model2\\)\n",
    "\n",
    "gnum = model2\\(a=sol2\\[0\\].rhs\\(\\),b=sol2\\[1\\].rhs\\(\\),c=sol2\\[2\\].rhs\\(\\)\\)\n",
    "\n",
    "show\\(gnum\\)\n"
   ]
  },
  {
   "cell_type": "code",
   "execution_count": 15,
   "metadata": {
    "collapsed": false
   },
   "outputs": [
    {
     "name": "stdout",
     "output_type": "stream",
     "text": [
      "\n",
      "Call:\n",
      "lm(formula = y ~ x, data = data)\n",
      "\n",
      "Coefficients:\n",
      "(Intercept)            x  \n",
      "      5.000        6.286  \n",
      "\n"
     ]
    },
    {
     "name": "stdout",
     "output_type": "stream",
     "text": [
      "\n",
      "Call:\n",
      "lm(formula = y ~ poly(x, 2, raw = TRUE), data = data)\n",
      "\n",
      "Coefficients:\n",
      "            (Intercept)  poly(x, 2, raw = TRUE)1  poly(x, 2, raw = TRUE)2  \n",
      "                 25.857                   -7.619                    1.738  \n",
      "\n"
     ]
    }
   ],
   "source": [
    "data <- data.frame(x = c(1, 2, 3, 4, 5, 6, 7), y = c(25, 15, 9, 24, 37, 50, 51))\n",
    "\n",
    "# Fit a linear model to the data\n",
    "lm_fit <- lm(y ~ x, data = data)\n",
    "print(lm_fit)\n",
    "\n",
    "# Fit a quadratic model to the data\n",
    "quad_fit <- lm(y ~ poly(x, 2, raw = TRUE), data = data)\n",
    "print(quad_fit)"
   ]
  },
  {
   "cell_type": "code",
   "execution_count": 16,
   "metadata": {
    "collapsed": false
   },
   "outputs": [
    {
     "data": {
      "text/html": [
       "<strong>(Intercept):</strong> -1.4210854715202e-14"
      ],
      "text/latex": [
       "\\textbf{(Intercept):} -1.4210854715202e-14"
      ],
      "text/markdown": [
       "**(Intercept):** -1.4210854715202e-14"
      ],
      "text/plain": [
       "  (Intercept) \n",
       "-1.421085e-14 "
      ]
     },
     "execution_count": 16,
     "metadata": {
     },
     "output_type": "execute_result"
    },
    {
     "data": {
      "text/html": [
       "<strong>(Intercept):</strong> FALSE"
      ],
      "text/latex": [
       "\\textbf{(Intercept):} FALSE"
      ],
      "text/markdown": [
       "**(Intercept):** FALSE"
      ],
      "text/plain": [
       "(Intercept) \n",
       "      FALSE "
      ]
     },
     "execution_count": 16,
     "metadata": {
     },
     "output_type": "execute_result"
    }
   ],
   "source": [
    "# Compare the constant coefficients of the two quadratic polynomials\n",
    "c1 <- coef(quad_fit)[1]\n",
    "c2 <- g(0)\n",
    "c1 - c2\n",
    "c1 == c2"
   ]
  },
  {
   "cell_type": "markdown",
   "metadata": {
    "collapsed": false
   },
   "source": [
   ]
  }
 ],
 "metadata": {
  "kernelspec": {
   "argv": [
    "/usr/bin/R",
    "-e",
    "IRkernel::main()",
    "--args",
    "{connection_file}"
   ],
   "display_name": "R (system-wide)",
   "env": {
   },
   "language": "r",
   "metadata": {
    "cocalc": {
     "description": "R statistical programming language",
     "priority": 10,
     "url": "https://www.r-project.org/"
    }
   },
   "name": "ir",
   "resource_dir": "/ext/jupyter/kernels/ir"
  },
  "language_info": {
   "codemirror_mode": {
    "name": "ipython",
    "version": 3
   },
   "file_extension": ".py",
   "mimetype": "text/x-python",
   "name": "python",
   "nbconvert_exporter": "python",
   "pygments_lexer": "ipython3",
   "version": "3.10.6"
  }
 },
 "nbformat": 4,
 "nbformat_minor": 4
}