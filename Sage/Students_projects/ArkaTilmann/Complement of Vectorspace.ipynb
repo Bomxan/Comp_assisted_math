{
 "cells": [
  {
   "cell_type": "markdown",
   "metadata": {
    "collapsed": false
   },
   "source": [
    "# User Input\n",
    "\n",
    "At first the user inputs the dimension of the vector space and a family of input vectors"
   ]
  },
  {
   "cell_type": "code",
   "execution_count": 1,
   "metadata": {
    "collapsed": false
   },
   "outputs": [
   ],
   "source": [
    "n = 5"
   ]
  },
  {
   "cell_type": "code",
   "execution_count": 33,
   "metadata": {
    "collapsed": false
   },
   "outputs": [
   ],
   "source": [
    "family = [column_matrix(QQ, [1, 2, 3, 4, 5]), column_matrix(QQ, [2, 4, 6, 8, 10]), column_matrix(QQ, [1, 2, 3, 4, 6]), column_matrix(QQ, [1, 0, 0, 0, 0]) ]"
   ]
  },
  {
   "cell_type": "code",
   "execution_count": 34,
   "metadata": {
    "collapsed": false
   },
   "outputs": [
    {
     "data": {
      "text/html": [
       "<html>\\(\\displaystyle \\left[\\left(\\begin{array}{r}\n",
       "1 \\\\\n",
       "2 \\\\\n",
       "3 \\\\\n",
       "4 \\\\\n",
       "5\n",
       "\\end{array}\\right), \\left(\\begin{array}{r}\n",
       "2 \\\\\n",
       "4 \\\\\n",
       "6 \\\\\n",
       "8 \\\\\n",
       "10\n",
       "\\end{array}\\right), \\left(\\begin{array}{r}\n",
       "1 \\\\\n",
       "2 \\\\\n",
       "3 \\\\\n",
       "4 \\\\\n",
       "6\n",
       "\\end{array}\\right), \\left(\\begin{array}{r}\n",
       "1 \\\\\n",
       "0 \\\\\n",
       "0 \\\\\n",
       "0 \\\\\n",
       "0\n",
       "\\end{array}\\right)\\right]\\)</html>"
      ],
      "text/latex": [
       "$\\displaystyle \\left[\\left(\\begin{array}{r}\n",
       "1 \\\\\n",
       "2 \\\\\n",
       "3 \\\\\n",
       "4 \\\\\n",
       "5\n",
       "\\end{array}\\right), \\left(\\begin{array}{r}\n",
       "2 \\\\\n",
       "4 \\\\\n",
       "6 \\\\\n",
       "8 \\\\\n",
       "10\n",
       "\\end{array}\\right), \\left(\\begin{array}{r}\n",
       "1 \\\\\n",
       "2 \\\\\n",
       "3 \\\\\n",
       "4 \\\\\n",
       "6\n",
       "\\end{array}\\right), \\left(\\begin{array}{r}\n",
       "1 \\\\\n",
       "0 \\\\\n",
       "0 \\\\\n",
       "0 \\\\\n",
       "0\n",
       "\\end{array}\\right)\\right]$"
      ],
      "text/plain": [
       "[\n",
       "[1]  [ 2]  [1]  [1]\n",
       "[2]  [ 4]  [2]  [0]\n",
       "[3]  [ 6]  [3]  [0]\n",
       "[4]  [ 8]  [4]  [0]\n",
       "[5], [10], [6], [0]\n",
       "]"
      ]
     },
     "execution_count": 34,
     "metadata": {
     },
     "output_type": "execute_result"
    }
   ],
   "source": [
    "show(family)"
   ]
  },
  {
   "cell_type": "markdown",
   "metadata": {
    "collapsed": false
   },
   "source": [
    "# Calculation of the Complement"
   ]
  },
  {
   "cell_type": "code",
   "execution_count": 35,
   "metadata": {
    "collapsed": false
   },
   "outputs": [
   ],
   "source": [
    "basis_F = []\n",
    "basis_F_C = []"
   ]
  },
  {
   "cell_type": "markdown",
   "metadata": {
    "collapsed": false
   },
   "source": [
    "Put all the vectors in the family in a matrix"
   ]
  },
  {
   "cell_type": "code",
   "execution_count": 36,
   "metadata": {
    "collapsed": false
   },
   "outputs": [
   ],
   "source": [
    "mat = matrix(QQ, family[0])\n",
    "for i in range(1, len(family)):\n",
    "    mat = mat.augment(family[i])"
   ]
  },
  {
   "cell_type": "markdown",
   "metadata": {
    "collapsed": false
   },
   "source": [
    "Augments the matrix with the identity matrix. No it is guaranteed that the matrix contains all necessary basis vectors as coulumns"
   ]
  },
  {
   "cell_type": "code",
   "execution_count": 37,
   "metadata": {
    "collapsed": false
   },
   "outputs": [
   ],
   "source": [
    "mat = mat.augment(identity_matrix(5), subdivide=True)"
   ]
  },
  {
   "cell_type": "code",
   "execution_count": 38,
   "metadata": {
    "collapsed": false
   },
   "outputs": [
    {
     "data": {
      "text/html": [
       "<html>\\(\\displaystyle \\left(\\begin{array}{rrrr|rrrrr}\n",
       "1 & 2 & 1 & 1 & 1 & 0 & 0 & 0 & 0 \\\\\n",
       "2 & 4 & 2 & 0 & 0 & 1 & 0 & 0 & 0 \\\\\n",
       "3 & 6 & 3 & 0 & 0 & 0 & 1 & 0 & 0 \\\\\n",
       "4 & 8 & 4 & 0 & 0 & 0 & 0 & 1 & 0 \\\\\n",
       "5 & 10 & 6 & 0 & 0 & 0 & 0 & 0 & 1\n",
       "\\end{array}\\right)\\)</html>"
      ],
      "text/latex": [
       "$\\displaystyle \\left(\\begin{array}{rrrr|rrrrr}\n",
       "1 & 2 & 1 & 1 & 1 & 0 & 0 & 0 & 0 \\\\\n",
       "2 & 4 & 2 & 0 & 0 & 1 & 0 & 0 & 0 \\\\\n",
       "3 & 6 & 3 & 0 & 0 & 0 & 1 & 0 & 0 \\\\\n",
       "4 & 8 & 4 & 0 & 0 & 0 & 0 & 1 & 0 \\\\\n",
       "5 & 10 & 6 & 0 & 0 & 0 & 0 & 0 & 1\n",
       "\\end{array}\\right)$"
      ],
      "text/plain": [
       "[ 1  2  1  1| 1  0  0  0  0]\n",
       "[ 2  4  2  0| 0  1  0  0  0]\n",
       "[ 3  6  3  0| 0  0  1  0  0]\n",
       "[ 4  8  4  0| 0  0  0  1  0]\n",
       "[ 5 10  6  0| 0  0  0  0  1]"
      ]
     },
     "execution_count": 38,
     "metadata": {
     },
     "output_type": "execute_result"
    }
   ],
   "source": [
    "show(mat)"
   ]
  },
  {
   "cell_type": "markdown",
   "metadata": {
    "collapsed": false
   },
   "source": [
    "Calculate the echelon form of that matrix. The position of all basis vectors can now be read as the position of the pivot elements."
   ]
  },
  {
   "cell_type": "code",
   "execution_count": 39,
   "metadata": {
    "collapsed": false
   },
   "outputs": [
   ],
   "source": [
    "echelon = mat.echelon_form()"
   ]
  },
  {
   "cell_type": "code",
   "execution_count": 40,
   "metadata": {
    "collapsed": false
   },
   "outputs": [
    {
     "data": {
      "text/html": [
       "<html>\\(\\displaystyle \\left(\\begin{array}{rrrr|rrrrr}\n",
       "1 & 2 & 0 & 0 & 0 & 0 & 0 & \\frac{3}{2} & -1 \\\\\n",
       "0 & 0 & 1 & 0 & 0 & 0 & 0 & -\\frac{5}{4} & 1 \\\\\n",
       "0 & 0 & 0 & 1 & 1 & 0 & 0 & -\\frac{1}{4} & 0 \\\\\n",
       "0 & 0 & 0 & 0 & 0 & 1 & 0 & -\\frac{1}{2} & 0 \\\\\n",
       "0 & 0 & 0 & 0 & 0 & 0 & 1 & -\\frac{3}{4} & 0\n",
       "\\end{array}\\right)\\)</html>"
      ],
      "text/latex": [
       "$\\displaystyle \\left(\\begin{array}{rrrr|rrrrr}\n",
       "1 & 2 & 0 & 0 & 0 & 0 & 0 & \\frac{3}{2} & -1 \\\\\n",
       "0 & 0 & 1 & 0 & 0 & 0 & 0 & -\\frac{5}{4} & 1 \\\\\n",
       "0 & 0 & 0 & 1 & 1 & 0 & 0 & -\\frac{1}{4} & 0 \\\\\n",
       "0 & 0 & 0 & 0 & 0 & 1 & 0 & -\\frac{1}{2} & 0 \\\\\n",
       "0 & 0 & 0 & 0 & 0 & 0 & 1 & -\\frac{3}{4} & 0\n",
       "\\end{array}\\right)$"
      ],
      "text/plain": [
       "[   1    2    0    0|   0    0    0  3/2   -1]\n",
       "[   0    0    1    0|   0    0    0 -5/4    1]\n",
       "[   0    0    0    1|   1    0    0 -1/4    0]\n",
       "[   0    0    0    0|   0    1    0 -1/2    0]\n",
       "[   0    0    0    0|   0    0    1 -3/4    0]"
      ]
     },
     "execution_count": 40,
     "metadata": {
     },
     "output_type": "execute_result"
    }
   ],
   "source": [
    "show(echelon)"
   ]
  },
  {
   "cell_type": "markdown",
   "metadata": {
    "collapsed": false
   },
   "source": [
    "Finds all the pivot elements; if it is a pivot element this vector is a basis vector of the given space and will be added to the list of basis vectors"
   ]
  },
  {
   "cell_type": "code",
   "execution_count": 41,
   "metadata": {
    "collapsed": false
   },
   "outputs": [
   ],
   "source": [
    "c = 0\n",
    "    \n",
    "for i in range(len(family)+n):\n",
    "    #checks if pivot element\n",
    "    if(c<n and echelon[c, i]==1):\n",
    "        c = c+1\n",
    "        #checks if it is part of the given family of vectors; appends the vector to the according list\n",
    "        if(i<len(family)):\n",
    "            basis_F.append(mat[:, i])\n",
    "        else:\n",
    "            basis_F_C.append(mat[:, i])"
   ]
  },
  {
   "cell_type": "code",
   "execution_count": 42,
   "metadata": {
    "collapsed": false
   },
   "outputs": [
    {
     "data": {
      "text/html": [
       "<html>\\(\\displaystyle \\left[\\left(\\begin{array}{r}\n",
       "1 \\\\\n",
       "2 \\\\\n",
       "3 \\\\\n",
       "4 \\\\\n",
       "5\n",
       "\\end{array}\\right), \\left(\\begin{array}{r}\n",
       "1 \\\\\n",
       "2 \\\\\n",
       "3 \\\\\n",
       "4 \\\\\n",
       "6\n",
       "\\end{array}\\right), \\left(\\begin{array}{r}\n",
       "1 \\\\\n",
       "0 \\\\\n",
       "0 \\\\\n",
       "0 \\\\\n",
       "0\n",
       "\\end{array}\\right)\\right]\\)</html>"
      ],
      "text/latex": [
       "$\\displaystyle \\left[\\left(\\begin{array}{r}\n",
       "1 \\\\\n",
       "2 \\\\\n",
       "3 \\\\\n",
       "4 \\\\\n",
       "5\n",
       "\\end{array}\\right), \\left(\\begin{array}{r}\n",
       "1 \\\\\n",
       "2 \\\\\n",
       "3 \\\\\n",
       "4 \\\\\n",
       "6\n",
       "\\end{array}\\right), \\left(\\begin{array}{r}\n",
       "1 \\\\\n",
       "0 \\\\\n",
       "0 \\\\\n",
       "0 \\\\\n",
       "0\n",
       "\\end{array}\\right)\\right]$"
      ],
      "text/plain": [
       "[\n",
       "[1]  [1]  [1]\n",
       "[2]  [2]  [0]\n",
       "[3]  [3]  [0]\n",
       "[4]  [4]  [0]\n",
       "[5], [6], [0]\n",
       "]"
      ]
     },
     "execution_count": 42,
     "metadata": {
     },
     "output_type": "execute_result"
    }
   ],
   "source": [
    "show(basis_F)"
   ]
  },
  {
   "cell_type": "code",
   "execution_count": 43,
   "metadata": {
    "collapsed": false
   },
   "outputs": [
    {
     "data": {
      "text/html": [
       "<html>\\(\\displaystyle \\left[\\left(\\begin{array}{r}\n",
       "0 \\\\\n",
       "1 \\\\\n",
       "0 \\\\\n",
       "0 \\\\\n",
       "0\n",
       "\\end{array}\\right), \\left(\\begin{array}{r}\n",
       "0 \\\\\n",
       "0 \\\\\n",
       "1 \\\\\n",
       "0 \\\\\n",
       "0\n",
       "\\end{array}\\right)\\right]\\)</html>"
      ],
      "text/latex": [
       "$\\displaystyle \\left[\\left(\\begin{array}{r}\n",
       "0 \\\\\n",
       "1 \\\\\n",
       "0 \\\\\n",
       "0 \\\\\n",
       "0\n",
       "\\end{array}\\right), \\left(\\begin{array}{r}\n",
       "0 \\\\\n",
       "0 \\\\\n",
       "1 \\\\\n",
       "0 \\\\\n",
       "0\n",
       "\\end{array}\\right)\\right]$"
      ],
      "text/plain": [
       "[\n",
       "[0]  [0]\n",
       "[1]  [0]\n",
       "[0]  [1]\n",
       "[0]  [0]\n",
       "[0], [0]\n",
       "]"
      ]
     },
     "execution_count": 43,
     "metadata": {
     },
     "output_type": "execute_result"
    }
   ],
   "source": [
    "show(basis_F_C)"
   ]
  },
  {
   "cell_type": "code",
   "execution_count": 0,
   "metadata": {
    "collapsed": false
   },
   "outputs": [
   ],
   "source": [
   ]
  }
 ],
 "metadata": {
  "kernelspec": {
   "argv": [
    "sage-9.8",
    "--python",
    "-m",
    "sage.repl.ipython_kernel",
    "--matplotlib=inline",
    "-f",
    "{connection_file}"
   ],
   "display_name": "SageMath 9.8",
   "env": {
   },
   "language": "sagemath",
   "metadata": {
    "cocalc": {
     "description": "Open-source mathematical software system",
     "priority": 10,
     "url": "https://www.sagemath.org/"
    }
   },
   "name": "sage-9.8",
   "resource_dir": "/ext/jupyter/kernels/sage-9.8"
  },
  "language_info": {
   "codemirror_mode": {
    "name": "ipython",
    "version": 3
   },
   "file_extension": ".py",
   "mimetype": "text/x-python",
   "name": "python",
   "nbconvert_exporter": "python",
   "pygments_lexer": "ipython3",
   "version": "3.11.1"
  }
 },
 "nbformat": 4,
 "nbformat_minor": 4
}